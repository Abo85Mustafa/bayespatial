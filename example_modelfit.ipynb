{
 "cells": [
  {
   "cell_type": "code",
   "execution_count": 30,
   "metadata": {
    "collapsed": false
   },
   "outputs": [],
   "source": [
    "import theano.tensor as tt\n",
    "import pysal as ps\n",
    "import matplotlib.pyplot as plt\n",
    "import seaborn.apionly as sns\n",
    "import numpy as np\n",
    "import pandas as pd\n",
    "import ops\n",
    "import distributions as spdist\n",
    "import scipy.sparse as spar\n",
    "import scipy.sparse.linalg as spla\n",
    "import pymc3 as mc\n",
    "%matplotlib inline"
   ]
  },
  {
   "cell_type": "code",
   "execution_count": 3,
   "metadata": {
    "collapsed": false
   },
   "outputs": [],
   "source": [
    "df = ps.pdio.read_files(ps.examples.get_path('south.shp'))\n",
    "df = df.query('STATE_NAME in (\"Texas\", \"Oklahoma\", \"Arkansas\", \"Louisiana\")')"
   ]
  },
  {
   "cell_type": "code",
   "execution_count": 4,
   "metadata": {
    "collapsed": false
   },
   "outputs": [
    {
     "data": {
      "text/html": [
       "<div>\n",
       "<table border=\"1\" class=\"dataframe\">\n",
       "  <thead>\n",
       "    <tr style=\"text-align: right;\">\n",
       "      <th></th>\n",
       "      <th>FIPSNO</th>\n",
       "      <th>NAME</th>\n",
       "      <th>STATE_NAME</th>\n",
       "      <th>STATE_FIPS</th>\n",
       "      <th>CNTY_FIPS</th>\n",
       "      <th>FIPS</th>\n",
       "      <th>STFIPS</th>\n",
       "      <th>COFIPS</th>\n",
       "      <th>SOUTH</th>\n",
       "      <th>HR60</th>\n",
       "      <th>...</th>\n",
       "      <th>BLK90</th>\n",
       "      <th>GI59</th>\n",
       "      <th>GI69</th>\n",
       "      <th>GI79</th>\n",
       "      <th>GI89</th>\n",
       "      <th>FH60</th>\n",
       "      <th>FH70</th>\n",
       "      <th>FH80</th>\n",
       "      <th>FH90</th>\n",
       "      <th>geometry</th>\n",
       "    </tr>\n",
       "  </thead>\n",
       "  <tbody>\n",
       "    <tr>\n",
       "      <th>288</th>\n",
       "      <td>40035</td>\n",
       "      <td>Craig</td>\n",
       "      <td>Oklahoma</td>\n",
       "      <td>40</td>\n",
       "      <td>035</td>\n",
       "      <td>40035</td>\n",
       "      <td>40</td>\n",
       "      <td>35</td>\n",
       "      <td>1</td>\n",
       "      <td>4.089227</td>\n",
       "      <td>...</td>\n",
       "      <td>3.424560</td>\n",
       "      <td>0.359287</td>\n",
       "      <td>0.416758</td>\n",
       "      <td>0.358676</td>\n",
       "      <td>0.380774</td>\n",
       "      <td>11.921235</td>\n",
       "      <td>8.7</td>\n",
       "      <td>9.077454</td>\n",
       "      <td>10.746190</td>\n",
       "      <td>&lt;pysal.cg.shapes.Polygon object at 0x7f4bf2b4c...</td>\n",
       "    </tr>\n",
       "    <tr>\n",
       "      <th>289</th>\n",
       "      <td>40105</td>\n",
       "      <td>Nowata</td>\n",
       "      <td>Oklahoma</td>\n",
       "      <td>40</td>\n",
       "      <td>105</td>\n",
       "      <td>40105</td>\n",
       "      <td>40</td>\n",
       "      <td>105</td>\n",
       "      <td>1</td>\n",
       "      <td>9.218289</td>\n",
       "      <td>...</td>\n",
       "      <td>3.642914</td>\n",
       "      <td>0.300158</td>\n",
       "      <td>0.410097</td>\n",
       "      <td>0.348434</td>\n",
       "      <td>0.378781</td>\n",
       "      <td>9.818679</td>\n",
       "      <td>7.9</td>\n",
       "      <td>6.892308</td>\n",
       "      <td>10.108052</td>\n",
       "      <td>&lt;pysal.cg.shapes.Polygon object at 0x7f4bf2b4c...</td>\n",
       "    </tr>\n",
       "    <tr>\n",
       "      <th>290</th>\n",
       "      <td>40115</td>\n",
       "      <td>Ottawa</td>\n",
       "      <td>Oklahoma</td>\n",
       "      <td>40</td>\n",
       "      <td>115</td>\n",
       "      <td>40115</td>\n",
       "      <td>40</td>\n",
       "      <td>115</td>\n",
       "      <td>1</td>\n",
       "      <td>5.889073</td>\n",
       "      <td>...</td>\n",
       "      <td>0.615163</td>\n",
       "      <td>0.318218</td>\n",
       "      <td>0.382949</td>\n",
       "      <td>0.361050</td>\n",
       "      <td>0.385546</td>\n",
       "      <td>12.741722</td>\n",
       "      <td>10.4</td>\n",
       "      <td>11.102620</td>\n",
       "      <td>12.518889</td>\n",
       "      <td>&lt;pysal.cg.shapes.Polygon object at 0x7f4bf2b4c...</td>\n",
       "    </tr>\n",
       "    <tr>\n",
       "      <th>291</th>\n",
       "      <td>40113</td>\n",
       "      <td>Osage</td>\n",
       "      <td>Oklahoma</td>\n",
       "      <td>40</td>\n",
       "      <td>113</td>\n",
       "      <td>40113</td>\n",
       "      <td>40</td>\n",
       "      <td>113</td>\n",
       "      <td>1</td>\n",
       "      <td>3.082519</td>\n",
       "      <td>...</td>\n",
       "      <td>10.109257</td>\n",
       "      <td>0.284325</td>\n",
       "      <td>0.376536</td>\n",
       "      <td>0.359410</td>\n",
       "      <td>0.381143</td>\n",
       "      <td>10.104046</td>\n",
       "      <td>7.6</td>\n",
       "      <td>8.170547</td>\n",
       "      <td>12.124602</td>\n",
       "      <td>&lt;pysal.cg.shapes.Polygon object at 0x7f4bf2b4c...</td>\n",
       "    </tr>\n",
       "    <tr>\n",
       "      <th>292</th>\n",
       "      <td>40071</td>\n",
       "      <td>Kay</td>\n",
       "      <td>Oklahoma</td>\n",
       "      <td>40</td>\n",
       "      <td>071</td>\n",
       "      <td>40071</td>\n",
       "      <td>40</td>\n",
       "      <td>71</td>\n",
       "      <td>1</td>\n",
       "      <td>1.959171</td>\n",
       "      <td>...</td>\n",
       "      <td>1.781255</td>\n",
       "      <td>0.262299</td>\n",
       "      <td>0.367160</td>\n",
       "      <td>0.355859</td>\n",
       "      <td>0.376317</td>\n",
       "      <td>9.218101</td>\n",
       "      <td>7.3</td>\n",
       "      <td>8.869334</td>\n",
       "      <td>9.808418</td>\n",
       "      <td>&lt;pysal.cg.shapes.Polygon object at 0x7f4bf2b4c...</td>\n",
       "    </tr>\n",
       "  </tbody>\n",
       "</table>\n",
       "<p>5 rows × 70 columns</p>\n",
       "</div>"
      ],
      "text/plain": [
       "     FIPSNO    NAME STATE_NAME STATE_FIPS CNTY_FIPS   FIPS  STFIPS  COFIPS  \\\n",
       "288   40035   Craig   Oklahoma         40       035  40035      40      35   \n",
       "289   40105  Nowata   Oklahoma         40       105  40105      40     105   \n",
       "290   40115  Ottawa   Oklahoma         40       115  40115      40     115   \n",
       "291   40113   Osage   Oklahoma         40       113  40113      40     113   \n",
       "292   40071     Kay   Oklahoma         40       071  40071      40      71   \n",
       "\n",
       "     SOUTH      HR60                        ...                          \\\n",
       "288      1  4.089227                        ...                           \n",
       "289      1  9.218289                        ...                           \n",
       "290      1  5.889073                        ...                           \n",
       "291      1  3.082519                        ...                           \n",
       "292      1  1.959171                        ...                           \n",
       "\n",
       "         BLK90      GI59      GI69      GI79      GI89       FH60  FH70  \\\n",
       "288   3.424560  0.359287  0.416758  0.358676  0.380774  11.921235   8.7   \n",
       "289   3.642914  0.300158  0.410097  0.348434  0.378781   9.818679   7.9   \n",
       "290   0.615163  0.318218  0.382949  0.361050  0.385546  12.741722  10.4   \n",
       "291  10.109257  0.284325  0.376536  0.359410  0.381143  10.104046   7.6   \n",
       "292   1.781255  0.262299  0.367160  0.355859  0.376317   9.218101   7.3   \n",
       "\n",
       "          FH80       FH90                                           geometry  \n",
       "288   9.077454  10.746190  <pysal.cg.shapes.Polygon object at 0x7f4bf2b4c...  \n",
       "289   6.892308  10.108052  <pysal.cg.shapes.Polygon object at 0x7f4bf2b4c...  \n",
       "290  11.102620  12.518889  <pysal.cg.shapes.Polygon object at 0x7f4bf2b4c...  \n",
       "291   8.170547  12.124602  <pysal.cg.shapes.Polygon object at 0x7f4bf2b4c...  \n",
       "292   8.869334   9.808418  <pysal.cg.shapes.Polygon object at 0x7f4bf2b4c...  \n",
       "\n",
       "[5 rows x 70 columns]"
      ]
     },
     "execution_count": 4,
     "metadata": {},
     "output_type": "execute_result"
    }
   ],
   "source": [
    "df.head()"
   ]
  },
  {
   "cell_type": "code",
   "execution_count": 25,
   "metadata": {
    "collapsed": true
   },
   "outputs": [],
   "source": [
    "df = df[df.HR90 > 0]"
   ]
  },
  {
   "cell_type": "code",
   "execution_count": 38,
   "metadata": {
    "collapsed": true
   },
   "outputs": [],
   "source": [
    "Y = np.log(df[['HR90']].values)\n",
    "X = df[['GI89', 'FH90']].values\n",
    "N,P = X.shape"
   ]
  },
  {
   "cell_type": "code",
   "execution_count": 39,
   "metadata": {
    "collapsed": false
   },
   "outputs": [
    {
     "data": {
      "text/plain": [
       "<seaborn.axisgrid.PairGrid at 0x7f4beca27c50>"
      ]
     },
     "execution_count": 39,
     "metadata": {},
     "output_type": "execute_result"
    },
    {
     "data": {
      "image/png": "[encoded data removed]",
      "text/plain": [
       "<matplotlib.figure.Figure at 0x7f4becdc1748>"
      ]
     },
     "metadata": {},
     "output_type": "display_data"
    }
   ],
   "source": [
    "sns.pairplot(pd.DataFrame([Y.flatten(),*X.T]).T)"
   ]
  },
  {
   "cell_type": "code",
   "execution_count": 40,
   "metadata": {
    "collapsed": true
   },
   "outputs": [],
   "source": [
    "W = ps.weights.Queen.from_dataframe(df)"
   ]
  },
  {
   "cell_type": "code",
   "execution_count": 41,
   "metadata": {
    "collapsed": true
   },
   "outputs": [],
   "source": [
    "W.transform = 'r'"
   ]
  },
  {
   "cell_type": "code",
   "execution_count": 48,
   "metadata": {
    "collapsed": false
   },
   "outputs": [],
   "source": [
    "with mc.Model() as SE:\n",
    "    a = mc.Normal('a', 0,sd=10)\n",
    "    beta = mc.Normal('beta', 0,sd=10, shape=P)\n",
    "    \n",
    "    #sigma= mc.HalfCauchy('sigma', 5, testval=2)\n",
    "    \n",
    "    rho = mc.Uniform('rho', lower=-.99, upper=.99, testval=0)\n",
    "    \n",
    "    mu = a + tt.dot(X, beta)\n",
    "    \n",
    "    outcome = spdist.SAR_Error('outcome', mu=mu, scale=1, rho=rho, \n",
    "                               W=W, observed=Y.flatten(), shape=N)"
   ]
  },
  {
   "cell_type": "code",
   "execution_count": null,
   "metadata": {
    "collapsed": false
   },
   "outputs": [
    {
     "name": "stderr",
     "output_type": "stream",
     "text": [
      "Auto-assigning NUTS sampler...\n",
      "Initializing NUTS using advi...\n",
      "  0%|          | 52/200000 [01:52<121:33:12,  2.19s/it]"
     ]
    }
   ],
   "source": [
    "with SE:\n",
    "    trace = mc.sample(50)"
   ]
  },
  {
   "cell_type": "code",
   "execution_count": null,
   "metadata": {
    "collapsed": true
   },
   "outputs": [],
   "source": []
  }
 ],
 "metadata": {
  "anaconda-cloud": {},
  "kernelspec": {
   "display_name": "Python [conda env:py36]",
   "language": "python",
   "name": "conda-env-py36-py"
  },
  "language_info": {
   "codemirror_mode": {
    "name": "ipython",
    "version": 3
   },
   "file_extension": ".py",
   "mimetype": "text/x-python",
   "name": "python",
   "nbconvert_exporter": "python",
   "pygments_lexer": "ipython3",
   "version": "3.5.2"
  }
 },
 "nbformat": 4,
 "nbformat_minor": 0
}
